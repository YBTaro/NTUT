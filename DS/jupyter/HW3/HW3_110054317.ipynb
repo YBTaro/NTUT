{
 "cells": [
  {
   "cell_type": "markdown",
   "metadata": {},
   "source": [
    "## Data Structures 2021 Fall\n",
    "### Homework 3 \n",
    "### Due: Dec 9, 2021\n",
    "\n",
    "### SID:110054317\n",
    "### Name: 陳昱博"
   ]
  },
  {
   "cell_type": "markdown",
   "metadata": {},
   "source": [
    "#### Problem 1. \n",
    "Show that the summation $\\sum_{i=1}^n \\lceil \\log_2 i\\rceil$ is $O(n\\log n)$."
   ]
  },
  {
   "cell_type": "markdown",
   "metadata": {},
   "source": [
    "<font color=\"red\"> Please have your answers here </font>"
   ]
  },
  {
   "cell_type": "markdown",
   "metadata": {},
   "source": [
    "#### Problem 2. \n",
    "Let $S$ be a set of $n$ lines in the plane such that no two are parallel and no three meet in the same point. Show, by induction, that the lines in $S$ determine $\\Theta(n^2)$ intersection points. (**hint**: Consider the contribution made by one line.)"
   ]
  },
  {
   "cell_type": "markdown",
   "metadata": {},
   "source": [
    "<font color=\"red\"> Please have your answers here </font>"
   ]
  },
  {
   "cell_type": "markdown",
   "metadata": {},
   "source": [
    "#### Problem 3. \n",
    "Suppose you have two nonempty stacks $S$ and $T$ and a deque $D$. Describe how to use $D$ so that $S$ stores all the elements of $T$ below all of its original elements, with both sets of elements still in their original order."
   ]
  },
  {
   "cell_type": "markdown",
   "metadata": {},
   "source": [
    "<font color=\"red\"> Please have your answers here </font>"
   ]
  },
  {
   "cell_type": "markdown",
   "metadata": {},
   "source": [
    "#### Problem 4. \n",
    "Consider an implementation of an extendable array, but instead of copying the elements of the array list into an array of double the size (that is, from $N$ to $2N$) when its capacity is reached, we copy the elements into an array with $\\lceil {N}/2\\rceil$ additional cells, going from capacity $N$ to $N+\\lceil {N}/2\\rceil$. Show that performing a sequence of $n$ push operations (that is, insertions at the end) still runs in $O(n)$ time in this case."
   ]
  },
  {
   "cell_type": "markdown",
   "metadata": {},
   "source": [
    "<font color=\"red\"> Please have your answers here </font>"
   ]
  },
  {
   "cell_type": "markdown",
   "metadata": {},
   "source": [
    "#### Problem 5. \n",
    "Suppose each row of an $n\\times n$ array $A$ consists of $1$'s and $0$'s such that, in any row $i$ of $A$, all the $1$'s come before any $0$'s. We Assume that $A$ is already in memory. Describe a method running in $O(n)$ time (not $O(n^2)$) for finding the row of $A$ that contains the most $1$'s.\n"
   ]
  },
  {
   "cell_type": "markdown",
   "metadata": {},
   "source": [
    "<font color=\"red\"> Please have your answers here </font>"
   ]
  },
  {
   "cell_type": "markdown",
   "metadata": {},
   "source": [
    "#### Problem 6. (Programming Exercise)\n",
    "A ***Gray code*** is an encoding of numbers so that two contiguous numbers have a single digit differing by 1. The term Gray code is often used to refer to a \"reflected\" code, or more specifically still, the binary reflected Gray code. For example, one-bit Gray code is $G_1=[0, 1]$ and two-bit Gray code is $G_2=[00, 01, 11, 10]$. Three-bit Gray code is as follows:\n",
    "\n",
    "| Dec | Gray |\n",
    "|-----|------|\n",
    "| 0   | 000  |\n",
    "| 1   | 001  |\n",
    "| 2   | 011  |\n",
    "| 3   | 010  |\n",
    "| 4   | 110  |\n",
    "| 5   | 111  |\n",
    "| 6   | 101  |\n",
    "| 7   | 100  |\n",
    "\n",
    "This exercise asks you to list the $n$-bit Gray code using a ***stack***. Your Python program should read a value $n$ (the number of bits for the Gray code) and use a stack to help you to generate the $n$-bit Gray codes as well as list them in order. \n",
    "\n",
    "Please note that your program **must use a *stack*** as an auxiliary tool. When you submit your homework, you need to indicate where the stack is in your program and how it helps."
   ]
  },
  {
   "cell_type": "code",
   "execution_count": 1,
   "metadata": {},
   "outputs": [],
   "source": []
  },
  {
   "cell_type": "code",
   "execution_count": 55,
   "metadata": {},
   "outputs": [
    {
     "name": "stdout",
     "output_type": "stream",
     "text": [
      "['0000', '0001', '0011', '0010', '0110', '0111', '0101', '0100', '1100', '1101', '1111', '1110', '1010', '1011', '1001', '1000']\n"
     ]
    }
   ],
   "source": [
    "class Stack:\n",
    "    # 建構式\n",
    "    def __init__(self):\n",
    "        self.A=[]\n",
    "    # 方法(Method)\n",
    "    def push(self,o):\n",
    "        self.A.append(o)\n",
    "    def pop(self):\n",
    "        return self.A.pop()\n",
    "def Gray_Code_Generator(n):\n",
    "    G=[\"0\",\"1\"]\n",
    "    S=Stack()\n",
    "    if (n==1):\n",
    "        print(G)\n",
    "    else:\n",
    "        a=2 #the number of entries in G\n",
    "        for i in range(1,n):\n",
    "            for j in range(len(G)):\n",
    "                if (G[j]):\n",
    "                    w=\"1\"+G[j]   # 把 G[j] 前面加上字串\"1\"後給予變數名 w\n",
    "                    S.push(w)    # 把 w push到Stack裡\n",
    "                    G[j]=\"0\"+G[j] # 修改 G[j] 變成 \"0\"+ 原本的G[j]\n",
    "            \n",
    "            for k in range(a):\n",
    "                G.append(S.pop()) # 把Stack裡的元素pop out回到G裡，這樣剛好是對稱的樣子\n",
    "            a*=2\n",
    "        print(G)\n",
    "    \n",
    "    \n",
    "    \n",
    "Gray_Code_Generator(4)\n",
    "\n",
    "\n",
    "# a=\"0\"\n",
    "# a=\"1\"+a\n",
    "# print(a)\n",
    "# print(type(a))"
   ]
  },
  {
   "cell_type": "code",
   "execution_count": null,
   "metadata": {},
   "outputs": [],
   "source": []
  }
 ],
 "metadata": {
  "kernelspec": {
   "display_name": "Python 3",
   "language": "python",
   "name": "python3"
  },
  "language_info": {
   "codemirror_mode": {
    "name": "ipython",
    "version": 3
   },
   "file_extension": ".py",
   "mimetype": "text/x-python",
   "name": "python",
   "nbconvert_exporter": "python",
   "pygments_lexer": "ipython3",
   "version": "3.8.8"
  }
 },
 "nbformat": 4,
 "nbformat_minor": 2
}
